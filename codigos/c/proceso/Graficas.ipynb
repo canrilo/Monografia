{
 "metadata": {
  "name": "",
  "signature": "sha256:44eba93d0a64d050e99cd32c7ad30ce9453757b7564880e7cea43eb1f16f63fa"
 },
 "nbformat": 3,
 "nbformat_minor": 0,
 "worksheets": [
  {
   "cells": [
    {
     "cell_type": "code",
     "collapsed": false,
     "input": [
      "# encoding: UTF-8\n",
      "%pylab inline\n",
      "import numpy as np\n",
      "import matplotlib.pyplot as plt\n",
      "matplotlib.use('TkAgg')\n",
      "import matplotlib.rcsetup as rcsetup"
     ],
     "language": "python",
     "metadata": {},
     "outputs": [
      {
       "output_type": "stream",
       "stream": "stdout",
       "text": [
        "Populating the interactive namespace from numpy and matplotlib\n"
       ]
      },
      {
       "output_type": "stream",
       "stream": "stderr",
       "text": [
        "/usr/lib/pymodules/python2.7/matplotlib/__init__.py:1173: UserWarning:  This call to matplotlib.use() has no effect\n",
        "because the backend has already been chosen;\n",
        "matplotlib.use() must be called *before* pylab, matplotlib.pyplot,\n",
        "or matplotlib.backends is imported for the first time.\n",
        "\n",
        "  warnings.warn(_use_error_msg)\n"
       ]
      }
     ],
     "prompt_number": 1
    },
    {
     "cell_type": "code",
     "collapsed": false,
     "input": [
      "def graficar_masas(nombres):\n",
      "    fig=plt.figure()\n",
      "    num=size(nombres)\n",
      "    logmas=fig.add_subplot(111)\n",
      "    logmas.set_title('Distribuci\u00f3n de Halos vs Log M')\n",
      "    for k in range(num):\n",
      "        print \"Se abrir\u00e1 el archivo \",nombres[k]\n",
      "        infile = open(nombres[k],'r')\n",
      "        numhalos=int(infile.readline().rstrip())\n",
      "        datos_halo=np.zeros([numhalos,7])\n",
      "        for i in range(numhalos):\n",
      "            datos_halo[i,:]=np.array(map(float,infile.readline().rstrip().split(\" \",7))).reshape(1,7)\n",
      "        masas=datos_halo[:,0]\n",
      "        histo,ed=histogram(log10(masas),20)\n",
      "        delta=ed[2]-ed[1]\n",
      "        velocidades=np.zeros([numhalos,1])\n",
      "        for i in range(numhalos):\n",
      "            velocidades[i]=np.sqrt(pow(datos_halo[i,4],2)+pow(datos_halo[i,5],2)+pow(datos_halo[i,6],2))\n",
      "        distr_vel,binvel=histogram(velocidades,30)\n",
      "        logmas.plot(ed[0:20],log10(histo/(delta*pow(150,3))),color(k),label=nombres[k])\n",
      "        infile.close()\n",
      "    logmas.legend()\n",
      "    plt.show()\n",
      "\n",
      "def color(a):\n",
      "    a=a%7\n",
      "    colores=['b','r','g','y','c','m','k']\n",
      "    return colores[a]"
     ],
     "language": "python",
     "metadata": {},
     "outputs": [],
     "prompt_number": 3
    },
    {
     "cell_type": "code",
     "collapsed": false,
     "input": [
      "graficar_masas([\"datos_halos.data\"])\n"
     ],
     "language": "python",
     "metadata": {},
     "outputs": [
      {
       "output_type": "stream",
       "stream": "stdout",
       "text": [
        "Se abrir\u00e1 el archivo  datos_halos.data\n"
       ]
      },
      {
       "metadata": {},
       "output_type": "display_data",
       "text": [
        "<matplotlib.figure.Figure at 0xb05acf8c>"
       ]
      }
     ],
     "prompt_number": 11
    },
    {
     "cell_type": "code",
     "collapsed": false,
     "input": [
      "k=1\n",
      "fig=plt.figure()\n",
      "num=1\n",
      "logmas=fig.add_subplot(111)\n",
      "logmas.set_title('Distribuci\u00f3n de Halos vs Log M')\n",
      "infile = open(\"datos_halos.data\",'r')\n",
      "numhalos=int(infile.readline().rstrip())\n",
      "datos_halo=np.zeros([numhalos,7])\n",
      "for i in range(numhalos):\n",
      "    datos_halo[i,:]=np.array(map(float,infile.readline().rstrip().split(\" \",7))).reshape(1,7)\n",
      "masas=datos_halo[:,0]\n",
      "histo,ed=histogram(log10(masas),20)\n",
      "delta=ed[2]-ed[1]\n",
      "velocidades=np.zeros([numhalos,1])\n",
      "for i in range(numhalos):\n",
      "    velocidades[i]=np.sqrt(pow(datos_halo[i,4],2)+pow(datos_halo[i,5],2)+pow(datos_halo[i,6],2))\n",
      "distr_vel,binvel=histogram(velocidades,30)\n",
      "logmas.plot(ed[0:20],log10(histo/(delta*pow(150,3))),color(k),label=\"datos_halos.data\")\n",
      "infile.close()\n",
      "#logmas.legend()\n",
      "plt.show()\n",
      "#plt.savefig('foo.png')"
     ],
     "language": "python",
     "metadata": {},
     "outputs": [
      {
       "metadata": {},
       "output_type": "display_data",
       "text": [
        "<matplotlib.figure.Figure at 0xb13409ac>"
       ]
      }
     ],
     "prompt_number": 4
    },
    {
     "cell_type": "code",
     "collapsed": false,
     "input": [
      "i"
     ],
     "language": "python",
     "metadata": {},
     "outputs": [
      {
       "metadata": {},
       "output_type": "pyout",
       "prompt_number": 51,
       "text": [
        "6191"
       ]
      }
     ],
     "prompt_number": 51
    },
    {
     "cell_type": "code",
     "collapsed": false,
     "input": [
      "fig=mplt.figure()\n",
      "logmas=fig.add_subplot(111)\n",
      "logmas.set_title('Distribuci\u00f3n de Halos vs Log M')\n",
      "logmas.plot(ed[0:20],log10(histo/(delta*pow(150,3))),color(k),label=\"datos_halos.data\")\n",
      "mplt.show()"
     ],
     "language": "python",
     "metadata": {},
     "outputs": [
      {
       "metadata": {},
       "output_type": "display_data",
       "text": [
        "<matplotlib.figure.Figure at 0xb11d2a6c>"
       ]
      }
     ],
     "prompt_number": 28
    },
    {
     "cell_type": "code",
     "collapsed": false,
     "input": [
      "plot(ed[0:20],log10(hist/(delta*pow(150,3))),color(k),label=\"datos_halos.data\")"
     ],
     "language": "python",
     "metadata": {},
     "outputs": [
      {
       "metadata": {},
       "output_type": "pyout",
       "prompt_number": 62,
       "text": [
        "[<matplotlib.lines.Line2D at 0xb12e3b8c>]"
       ]
      },
      {
       "metadata": {},
       "output_type": "display_data",
       "png": "[encoded data removed]",
       "text": [
        "<matplotlib.figure.Figure at 0xb12f388c>"
       ]
      }
     ],
     "prompt_number": 62
    },
    {
     "cell_type": "code",
     "collapsed": false,
     "input": [
      "x=np.linspace(0,10,100)\n",
      "plt.plot(x,x)"
     ],
     "language": "python",
     "metadata": {},
     "outputs": [
      {
       "metadata": {},
       "output_type": "pyout",
       "prompt_number": 26,
       "text": [
        "[<matplotlib.lines.Line2D at 0xb05eec0c>]"
       ]
      }
     ],
     "prompt_number": 26
    },
    {
     "cell_type": "code",
     "collapsed": false,
     "input": [
      "? plt.savefig"
     ],
     "language": "python",
     "metadata": {},
     "outputs": [],
     "prompt_number": 20
    },
    {
     "cell_type": "code",
     "collapsed": false,
     "input": [
      "print(rcsetup.all_backends)"
     ],
     "language": "python",
     "metadata": {},
     "outputs": [
      {
       "output_type": "stream",
       "stream": "stdout",
       "text": [
        "['GTK', 'GTKAgg', 'GTKCairo', 'MacOSX', 'Qt4Agg', 'TkAgg', 'WX', 'WXAgg', 'CocoaAgg', 'GTK3Cairo', 'GTK3Agg', 'WebAgg', 'agg', 'cairo', 'emf', 'gdk', 'pdf', 'pgf', 'ps', 'svg', 'template']\n"
       ]
      }
     ],
     "prompt_number": 51
    },
    {
     "cell_type": "code",
     "collapsed": false,
     "input": [],
     "language": "python",
     "metadata": {},
     "outputs": []
    }
   ],
   "metadata": {}
  }
 ]
}